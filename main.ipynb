{
 "cells": [
  {
   "cell_type": "code",
   "execution_count": 1,
   "metadata": {},
   "outputs": [
    {
     "name": "stderr",
     "output_type": "stream",
     "text": [
      "/Users/daipayanneogi/miniconda3/envs/mlp/lib/python3.8/site-packages/scipy/__init__.py:146: UserWarning: A NumPy version >=1.16.5 and <1.23.0 is required for this version of SciPy (detected version 1.23.5\n",
      "  warnings.warn(f\"A NumPy version >={np_minversion} and <{np_maxversion}\"\n"
     ]
    }
   ],
   "source": [
    "import cv2\n",
    "import numpy as np \n",
    "import matplotlib\n",
    "from matplotlib import pyplot as plt\n",
    "%matplotlib inline\n",
    "import sklearn"
   ]
  },
  {
   "attachments": {},
   "cell_type": "markdown",
   "metadata": {},
   "source": [
    "# Face and eyes Dectection models"
   ]
  },
  {
   "cell_type": "code",
   "execution_count": 2,
   "metadata": {},
   "outputs": [],
   "source": [
    "face_cascade = cv2.CascadeClassifier('./haarcascades/haarcascade_frontalface_default.xml')\n",
    "eye_cascade = cv2.CascadeClassifier('./haarcascades/haarcascade_eye.xml')\n"
   ]
  },
  {
   "attachments": {},
   "cell_type": "markdown",
   "metadata": {},
   "source": [
    "# Data Cleaning"
   ]
  },
  {
   "cell_type": "code",
   "execution_count": 3,
   "metadata": {},
   "outputs": [],
   "source": [
    "import pywt"
   ]
  },
  {
   "cell_type": "code",
   "execution_count": 4,
   "metadata": {},
   "outputs": [],
   "source": [
    "def crop_image(image_path):\n",
    "    img = cv2.imread(image_path)\n",
    "    try:\n",
    "        gray = cv2.cvtColor(img,cv2.COLOR_BGR2GRAY)\n",
    "        faces = face_cascade.detectMultiScale(gray,1.3,5)\n",
    "        for (x,y,w,h) in faces:\n",
    "            roi_color = img[y:y+h,x:x+w]\n",
    "            roi_gray = gray[y:y+h,x:x+w] \n",
    "            eyes = eye_cascade.detectMultiScale(roi_gray)\n",
    "            if len(eyes)>1:\n",
    "                return roi_color\n",
    "    except:\n",
    "        pass\n",
    "    \n"
   ]
  },
  {
   "cell_type": "code",
   "execution_count": null,
   "metadata": {},
   "outputs": [],
   "source": []
  },
  {
   "cell_type": "code",
   "execution_count": 5,
   "metadata": {},
   "outputs": [],
   "source": [
    "def w2d(img, mode='haar', level=1):\n",
    "    imArray = img\n",
    "    #Datatype conversions\n",
    "    #convert to grayscale\n",
    "    imArray = cv2.cvtColor( imArray,cv2.COLOR_RGB2GRAY )\n",
    "    #convert to float\n",
    "    imArray =  np.float32(imArray)   \n",
    "    imArray /= 255;\n",
    "    # compute coefficients \n",
    "    coeffs=pywt.wavedec2(imArray, mode, level=level)\n",
    "\n",
    "    #Process Coefficients\n",
    "    coeffs_H=list(coeffs)  \n",
    "    coeffs_H[0] *= 0;  \n",
    "\n",
    "    # reconstruction\n",
    "    imArray_H=pywt.waverec2(coeffs_H, mode);\n",
    "    imArray_H *= 255;\n",
    "    imArray_H =  np.uint8(imArray_H)\n",
    "\n",
    "    return imArray_H"
   ]
  },
  {
   "cell_type": "code",
   "execution_count": 6,
   "metadata": {},
   "outputs": [],
   "source": [
    "path_of_data = './data/'\n",
    "path_to_cr_data = './data/cropped/'"
   ]
  },
  {
   "cell_type": "code",
   "execution_count": 7,
   "metadata": {},
   "outputs": [],
   "source": [
    "import os \n",
    "img_dirs =[]\n",
    "for entry in os.scandir(path_of_data):\n",
    "    if entry.is_dir():\n",
    "        img_dirs.append(entry.path)"
   ]
  },
  {
   "attachments": {},
   "cell_type": "markdown",
   "metadata": {},
   "source": [
    "### Creating the folder --- Dont re-run it"
   ]
  },
  {
   "cell_type": "code",
   "execution_count": 8,
   "metadata": {},
   "outputs": [],
   "source": [
    "import shutil\n",
    "if os.path.exists(path_to_cr_data):\n",
    "     shutil.rmtree(path_to_cr_data)\n",
    "os.mkdir(path_to_cr_data)"
   ]
  },
  {
   "attachments": {},
   "cell_type": "markdown",
   "metadata": {},
   "source": [
    "### Saving all the cropped images"
   ]
  },
  {
   "cell_type": "code",
   "execution_count": 9,
   "metadata": {},
   "outputs": [
    {
     "data": {
      "text/plain": [
       "['./data/mbappe',\n",
       " './data/dhoni',\n",
       " './data/ronaldo',\n",
       " './data/virat',\n",
       " './data/messi',\n",
       " './data/cropped']"
      ]
     },
     "execution_count": 9,
     "metadata": {},
     "output_type": "execute_result"
    }
   ],
   "source": [
    "img_dirs"
   ]
  },
  {
   "cell_type": "code",
   "execution_count": 10,
   "metadata": {},
   "outputs": [
    {
     "name": "stdout",
     "output_type": "stream",
     "text": [
      "Generating cropped images in folder:  ./data/cropped/mbappe\n",
      "Generating cropped images in folder:  ./data/cropped/dhoni\n",
      "Generating cropped images in folder:  ./data/cropped/ronaldo\n",
      "Generating cropped images in folder:  ./data/cropped/virat\n",
      "Generating cropped images in folder:  ./data/cropped/messi\n"
     ]
    }
   ],
   "source": [
    "\n",
    "no = 1\n",
    "for img_dir in img_dirs:\n",
    "    count = 1\n",
    "    celeb_name = img_dir.split('/')[-1]   #-----Names of the celeb\n",
    "    for entry in os.scandir(img_dir):\n",
    "        roi_color = crop_image(entry.path)\n",
    "        try:\n",
    "\n",
    "            if roi_color is not None:\n",
    "                cropped_folder  = path_to_cr_data + celeb_name\n",
    "                if not os.path.exists(cropped_folder):\n",
    "                    os.makedirs(cropped_folder)\n",
    "\n",
    "                    print(\"Generating cropped images in folder: \",cropped_folder)\n",
    "                cropped_file_name = celeb_name.strip() + str(count) + \".png\"\n",
    "                cropped_file_path = cropped_folder.strip() + \"/\" + cropped_file_name\n",
    "                cv2.imwrite(cropped_file_path, roi_color)\n",
    "                count += 1\n",
    "        except:\n",
    "            continue\n",
    "\n",
    "            \n",
    "        \n",
    "\n"
   ]
  },
  {
   "cell_type": "code",
   "execution_count": null,
   "metadata": {},
   "outputs": [],
   "source": []
  },
  {
   "attachments": {},
   "cell_type": "markdown",
   "metadata": {},
   "source": [
    "crop_file_name_dict"
   ]
  },
  {
   "cell_type": "code",
   "execution_count": 11,
   "metadata": {},
   "outputs": [
    {
     "data": {
      "text/plain": [
       "['./data/cropped/mbappe',\n",
       " './data/cropped/dhoni',\n",
       " './data/cropped/ronaldo',\n",
       " './data/cropped/virat',\n",
       " './data/cropped/messi']"
      ]
     },
     "execution_count": 11,
     "metadata": {},
     "output_type": "execute_result"
    }
   ],
   "source": [
    "crop_image_dirs = []\n",
    "for entry in os.scandir('./data/cropped/'):\n",
    "    if entry.is_dir():\n",
    "        crop_image_dirs.append(entry.path)\n",
    "crop_image_dirs\n",
    "        \n"
   ]
  },
  {
   "cell_type": "code",
   "execution_count": 19,
   "metadata": {},
   "outputs": [
    {
     "data": {
      "text/plain": [
       "{'mbappe': ['./data/cropped/mbappe/mbappe46.png',\n",
       "  './data/cropped/mbappe/mbappe52.png',\n",
       "  './data/cropped/mbappe/mbappe53.png',\n",
       "  './data/cropped/mbappe/mbappe47.png',\n",
       "  './data/cropped/mbappe/mbappe51.png',\n",
       "  './data/cropped/mbappe/mbappe45.png',\n",
       "  './data/cropped/mbappe/mbappe44.png',\n",
       "  './data/cropped/mbappe/mbappe50.png',\n",
       "  './data/cropped/mbappe/mbappe54.png',\n",
       "  './data/cropped/mbappe/mbappe40.png',\n",
       "  './data/cropped/mbappe/.DS_Store',\n",
       "  './data/cropped/mbappe/mbappe41.png',\n",
       "  './data/cropped/mbappe/mbappe55.png',\n",
       "  './data/cropped/mbappe/mbappe43.png',\n",
       "  './data/cropped/mbappe/mbappe57.png',\n",
       "  './data/cropped/mbappe/mbappe56.png',\n",
       "  './data/cropped/mbappe/mbappe42.png',\n",
       "  './data/cropped/mbappe/mbappe31.png',\n",
       "  './data/cropped/mbappe/mbappe19.png',\n",
       "  './data/cropped/mbappe/mbappe18.png',\n",
       "  './data/cropped/mbappe/mbappe30.png',\n",
       "  './data/cropped/mbappe/mbappe24.png',\n",
       "  './data/cropped/mbappe/mbappe32.png',\n",
       "  './data/cropped/mbappe/mbappe27.png',\n",
       "  './data/cropped/mbappe/mbappe33.png',\n",
       "  './data/cropped/mbappe/mbappe37.png',\n",
       "  './data/cropped/mbappe/mbappe23.png',\n",
       "  './data/cropped/mbappe/mbappe22.png',\n",
       "  './data/cropped/mbappe/mbappe36.png',\n",
       "  './data/cropped/mbappe/mbappe20.png',\n",
       "  './data/cropped/mbappe/mbappe34.png',\n",
       "  './data/cropped/mbappe/mbappe8.png',\n",
       "  './data/cropped/mbappe/mbappe9.png',\n",
       "  './data/cropped/mbappe/mbappe35.png',\n",
       "  './data/cropped/mbappe/mbappe10.png',\n",
       "  './data/cropped/mbappe/mbappe38.png',\n",
       "  './data/cropped/mbappe/mbappe4.png',\n",
       "  './data/cropped/mbappe/mbappe5.png',\n",
       "  './data/cropped/mbappe/mbappe39.png',\n",
       "  './data/cropped/mbappe/mbappe11.png',\n",
       "  './data/cropped/mbappe/mbappe13.png',\n",
       "  './data/cropped/mbappe/mbappe7.png',\n",
       "  './data/cropped/mbappe/mbappe6.png',\n",
       "  './data/cropped/mbappe/mbappe12.png',\n",
       "  './data/cropped/mbappe/mbappe16.png',\n",
       "  './data/cropped/mbappe/mbappe2.png',\n",
       "  './data/cropped/mbappe/mbappe3.png',\n",
       "  './data/cropped/mbappe/mbappe17.png',\n",
       "  './data/cropped/mbappe/mbappe15.png',\n",
       "  './data/cropped/mbappe/mbappe1.png',\n",
       "  './data/cropped/mbappe/mbappe14.png',\n",
       "  './data/cropped/mbappe/mbappe28.png',\n",
       "  './data/cropped/mbappe/mbappe49.png',\n",
       "  './data/cropped/mbappe/mbappe48.png'],\n",
       " 'dhoni': ['./data/cropped/dhoni/dhoni14.png',\n",
       "  './data/cropped/dhoni/dhoni29.png',\n",
       "  './data/cropped/dhoni/dhoni15.png',\n",
       "  './data/cropped/dhoni/dhoni9.png',\n",
       "  './data/cropped/dhoni/dhoni16.png',\n",
       "  './data/cropped/dhoni/dhoni8.png',\n",
       "  './data/cropped/dhoni/.DS_Store',\n",
       "  './data/cropped/dhoni/dhoni11.png',\n",
       "  './data/cropped/dhoni/dhoni38.png',\n",
       "  './data/cropped/dhoni/dhoni63.png',\n",
       "  './data/cropped/dhoni/dhoni62.png',\n",
       "  './data/cropped/dhoni/dhoni60.png',\n",
       "  './data/cropped/dhoni/dhoni48.png',\n",
       "  './data/cropped/dhoni/dhoni49.png',\n",
       "  './data/cropped/dhoni/dhoni61.png',\n",
       "  './data/cropped/dhoni/dhoni59.png',\n",
       "  './data/cropped/dhoni/dhoni64.png',\n",
       "  './data/cropped/dhoni/dhoni58.png',\n",
       "  './data/cropped/dhoni/dhoni41.png',\n",
       "  './data/cropped/dhoni/dhoni54.png',\n",
       "  './data/cropped/dhoni/dhoni40.png',\n",
       "  './data/cropped/dhoni/dhoni44.png',\n",
       "  './data/cropped/dhoni/dhoni50.png',\n",
       "  './data/cropped/dhoni/dhoni51.png',\n",
       "  './data/cropped/dhoni/dhoni45.png',\n",
       "  './data/cropped/dhoni/dhoni47.png',\n",
       "  './data/cropped/dhoni/dhoni46.png',\n",
       "  './data/cropped/dhoni/dhoni52.png',\n",
       "  './data/cropped/dhoni/dhoni35.png',\n",
       "  './data/cropped/dhoni/dhoni21.png',\n",
       "  './data/cropped/dhoni/dhoni20.png',\n",
       "  './data/cropped/dhoni/dhoni34.png',\n",
       "  './data/cropped/dhoni/dhoni22.png',\n",
       "  './data/cropped/dhoni/dhoni36.png',\n",
       "  './data/cropped/dhoni/dhoni37.png',\n",
       "  './data/cropped/dhoni/dhoni1.png',\n",
       "  './data/cropped/dhoni/dhoni5.png',\n",
       "  './data/cropped/dhoni/dhoni27.png',\n",
       "  './data/cropped/dhoni/dhoni33.png',\n",
       "  './data/cropped/dhoni/dhoni32.png',\n",
       "  './data/cropped/dhoni/dhoni4.png',\n",
       "  './data/cropped/dhoni/dhoni6.png',\n",
       "  './data/cropped/dhoni/dhoni18.png',\n",
       "  './data/cropped/dhoni/dhoni30.png',\n",
       "  './data/cropped/dhoni/dhoni24.png',\n",
       "  './data/cropped/dhoni/dhoni25.png',\n",
       "  './data/cropped/dhoni/dhoni31.png',\n",
       "  './data/cropped/dhoni/dhoni7.png'],\n",
       " 'ronaldo': ['./data/cropped/ronaldo/ronaldo15.png',\n",
       "  './data/cropped/ronaldo/ronaldo29.png',\n",
       "  './data/cropped/ronaldo/ronaldo28.png',\n",
       "  './data/cropped/ronaldo/ronaldo14.png',\n",
       "  './data/cropped/ronaldo/ronaldo16.png',\n",
       "  './data/cropped/ronaldo/ronaldo17.png',\n",
       "  './data/cropped/ronaldo/ronaldo13.png',\n",
       "  './data/cropped/ronaldo/.DS_Store',\n",
       "  './data/cropped/ronaldo/ronaldo12.png',\n",
       "  './data/cropped/ronaldo/ronaldo38.png',\n",
       "  './data/cropped/ronaldo/ronaldo10.png',\n",
       "  './data/cropped/ronaldo/ronaldo11.png',\n",
       "  './data/cropped/ronaldo/ronaldo62.png',\n",
       "  './data/cropped/ronaldo/ronaldo63.png',\n",
       "  './data/cropped/ronaldo/ronaldo61.png',\n",
       "  './data/cropped/ronaldo/ronaldo49.png',\n",
       "  './data/cropped/ronaldo/ronaldo48.png',\n",
       "  './data/cropped/ronaldo/ronaldo60.png',\n",
       "  './data/cropped/ronaldo/ronaldo74.png',\n",
       "  './data/cropped/ronaldo/ronaldo58.png',\n",
       "  './data/cropped/ronaldo/ronaldo70.png',\n",
       "  './data/cropped/ronaldo/ronaldo64.png',\n",
       "  './data/cropped/ronaldo/ronaldo9.png',\n",
       "  './data/cropped/ronaldo/ronaldo8.png',\n",
       "  './data/cropped/ronaldo/ronaldo65.png',\n",
       "  './data/cropped/ronaldo/ronaldo71.png',\n",
       "  './data/cropped/ronaldo/ronaldo59.png',\n",
       "  './data/cropped/ronaldo/ronaldo67.png',\n",
       "  './data/cropped/ronaldo/ronaldo73.png',\n",
       "  './data/cropped/ronaldo/ronaldo72.png',\n",
       "  './data/cropped/ronaldo/ronaldo66.png',\n",
       "  './data/cropped/ronaldo/ronaldo43.png',\n",
       "  './data/cropped/ronaldo/ronaldo57.png',\n",
       "  './data/cropped/ronaldo/ronaldo6.png',\n",
       "  './data/cropped/ronaldo/ronaldo7.png',\n",
       "  './data/cropped/ronaldo/ronaldo56.png',\n",
       "  './data/cropped/ronaldo/ronaldo42.png',\n",
       "  './data/cropped/ronaldo/ronaldo54.png',\n",
       "  './data/cropped/ronaldo/ronaldo40.png',\n",
       "  './data/cropped/ronaldo/ronaldo68.png',\n",
       "  './data/cropped/ronaldo/ronaldo5.png',\n",
       "  './data/cropped/ronaldo/ronaldo4.png',\n",
       "  './data/cropped/ronaldo/ronaldo69.png',\n",
       "  './data/cropped/ronaldo/ronaldo41.png',\n",
       "  './data/cropped/ronaldo/ronaldo55.png',\n",
       "  './data/cropped/ronaldo/ronaldo51.png',\n",
       "  './data/cropped/ronaldo/ronaldo45.png',\n",
       "  './data/cropped/ronaldo/ronaldo1.png',\n",
       "  './data/cropped/ronaldo/ronaldo44.png',\n",
       "  './data/cropped/ronaldo/ronaldo50.png',\n",
       "  './data/cropped/ronaldo/ronaldo46.png',\n",
       "  './data/cropped/ronaldo/ronaldo52.png',\n",
       "  './data/cropped/ronaldo/ronaldo3.png',\n",
       "  './data/cropped/ronaldo/ronaldo2.png',\n",
       "  './data/cropped/ronaldo/ronaldo53.png',\n",
       "  './data/cropped/ronaldo/ronaldo47.png',\n",
       "  './data/cropped/ronaldo/ronaldo20.png',\n",
       "  './data/cropped/ronaldo/ronaldo34.png',\n",
       "  './data/cropped/ronaldo/ronaldo21.png',\n",
       "  './data/cropped/ronaldo/ronaldo37.png',\n",
       "  './data/cropped/ronaldo/ronaldo23.png',\n",
       "  './data/cropped/ronaldo/ronaldo22.png',\n",
       "  './data/cropped/ronaldo/ronaldo36.png',\n",
       "  './data/cropped/ronaldo/ronaldo32.png',\n",
       "  './data/cropped/ronaldo/ronaldo26.png',\n",
       "  './data/cropped/ronaldo/ronaldo27.png',\n",
       "  './data/cropped/ronaldo/ronaldo33.png',\n",
       "  './data/cropped/ronaldo/ronaldo19.png',\n",
       "  './data/cropped/ronaldo/ronaldo25.png',\n",
       "  './data/cropped/ronaldo/ronaldo30.png',\n",
       "  './data/cropped/ronaldo/ronaldo24.png',\n",
       "  './data/cropped/ronaldo/ronaldo18.png'],\n",
       " 'virat': ['./data/cropped/virat/virat20.png',\n",
       "  './data/cropped/virat/virat34.png',\n",
       "  './data/cropped/virat/virat35.png',\n",
       "  './data/cropped/virat/virat21.png',\n",
       "  './data/cropped/virat/virat37.png',\n",
       "  './data/cropped/virat/virat23.png',\n",
       "  './data/cropped/virat/virat22.png',\n",
       "  './data/cropped/virat/virat36.png',\n",
       "  './data/cropped/virat/virat32.png',\n",
       "  './data/cropped/virat/virat26.png',\n",
       "  './data/cropped/virat/virat27.png',\n",
       "  './data/cropped/virat/virat33.png',\n",
       "  './data/cropped/virat/virat31.png',\n",
       "  './data/cropped/virat/virat30.png',\n",
       "  './data/cropped/virat/virat24.png',\n",
       "  './data/cropped/virat/virat18.png',\n",
       "  './data/cropped/virat/virat43.png',\n",
       "  './data/cropped/virat/virat42.png',\n",
       "  './data/cropped/virat/virat7.png',\n",
       "  './data/cropped/virat/virat5.png',\n",
       "  './data/cropped/virat/virat40.png',\n",
       "  './data/cropped/virat/virat41.png',\n",
       "  './data/cropped/virat/virat4.png',\n",
       "  './data/cropped/virat/virat44.png',\n",
       "  './data/cropped/virat/virat1.png',\n",
       "  './data/cropped/virat/virat3.png',\n",
       "  './data/cropped/virat/virat2.png',\n",
       "  './data/cropped/virat/virat9.png',\n",
       "  './data/cropped/virat/virat8.png',\n",
       "  './data/cropped/virat/virat15.png',\n",
       "  './data/cropped/virat/virat29.png',\n",
       "  './data/cropped/virat/virat28.png',\n",
       "  './data/cropped/virat/virat14.png',\n",
       "  './data/cropped/virat/virat16.png',\n",
       "  './data/cropped/virat/virat17.png',\n",
       "  './data/cropped/virat/virat13.png',\n",
       "  './data/cropped/virat/virat38.png',\n",
       "  './data/cropped/virat/virat10.png',\n",
       "  './data/cropped/virat/virat11.png',\n",
       "  './data/cropped/virat/virat39.png'],\n",
       " 'messi': ['./data/cropped/messi/messi13.png',\n",
       "  './data/cropped/messi/messi10.png',\n",
       "  './data/cropped/messi/messi11.png',\n",
       "  './data/cropped/messi/messi8.png',\n",
       "  './data/cropped/messi/messi29.png',\n",
       "  './data/cropped/messi/messi15.png',\n",
       "  './data/cropped/messi/.DS_Store',\n",
       "  './data/cropped/messi/messi28.png',\n",
       "  './data/cropped/messi/messi9.png',\n",
       "  './data/cropped/messi/messi16.png',\n",
       "  './data/cropped/messi/messi17.png',\n",
       "  './data/cropped/messi/messi7.png',\n",
       "  './data/cropped/messi/messi32.png',\n",
       "  './data/cropped/messi/messi26.png',\n",
       "  './data/cropped/messi/messi27.png',\n",
       "  './data/cropped/messi/messi6.png',\n",
       "  './data/cropped/messi/messi33.png',\n",
       "  './data/cropped/messi/messi25.png',\n",
       "  './data/cropped/messi/messi4.png',\n",
       "  './data/cropped/messi/messi19.png',\n",
       "  './data/cropped/messi/messi18.png',\n",
       "  './data/cropped/messi/messi30.png',\n",
       "  './data/cropped/messi/messi5.png',\n",
       "  './data/cropped/messi/messi24.png',\n",
       "  './data/cropped/messi/messi1.png',\n",
       "  './data/cropped/messi/messi34.png',\n",
       "  './data/cropped/messi/messi35.png',\n",
       "  './data/cropped/messi/messi21.png',\n",
       "  './data/cropped/messi/messi37.png',\n",
       "  './data/cropped/messi/messi2.png',\n",
       "  './data/cropped/messi/messi23.png',\n",
       "  './data/cropped/messi/messi22.png',\n",
       "  './data/cropped/messi/messi3.png']}"
      ]
     },
     "execution_count": 19,
     "metadata": {},
     "output_type": "execute_result"
    }
   ],
   "source": [
    "celebrity_file_names_dict = {}\n",
    "for img_dir in crop_image_dirs:\n",
    "    celebrity_name = img_dir.split('/')[-1]\n",
    "    file_list = []\n",
    "    for entry in os.scandir(img_dir):\n",
    "        file_list.append(entry.path)\n",
    "        \n",
    "    celebrity_file_names_dict[celebrity_name] = file_list\n",
    "celebrity_file_names_dict"
   ]
  },
  {
   "cell_type": "code",
   "execution_count": 20,
   "metadata": {},
   "outputs": [
    {
     "data": {
      "text/plain": [
       "{'mbappe': 0, 'dhoni': 1, 'ronaldo': 2, 'virat': 3, 'messi': 4}"
      ]
     },
     "execution_count": 20,
     "metadata": {},
     "output_type": "execute_result"
    }
   ],
   "source": [
    "class_dict = {}\n",
    "count = 0\n",
    "for celebrity_name in celebrity_file_names_dict.keys():\n",
    "    class_dict[celebrity_name] = count\n",
    "    count = count + 1\n",
    "class_dict\n"
   ]
  },
  {
   "cell_type": "code",
   "execution_count": null,
   "metadata": {},
   "outputs": [],
   "source": []
  },
  {
   "cell_type": "code",
   "execution_count": 21,
   "metadata": {},
   "outputs": [
    {
     "name": "stdout",
     "output_type": "stream",
     "text": [
      "./data/cropped/mbappe/mbappe46.png\n",
      "./data/cropped/mbappe/mbappe52.png\n",
      "./data/cropped/mbappe/mbappe53.png\n",
      "./data/cropped/mbappe/mbappe47.png\n",
      "./data/cropped/mbappe/mbappe51.png\n",
      "./data/cropped/mbappe/mbappe45.png\n",
      "./data/cropped/mbappe/mbappe44.png\n",
      "./data/cropped/mbappe/mbappe50.png\n",
      "./data/cropped/mbappe/mbappe54.png\n",
      "./data/cropped/mbappe/mbappe40.png\n",
      "./data/cropped/mbappe/.DS_Store\n",
      "./data/cropped/mbappe/mbappe41.png\n",
      "./data/cropped/mbappe/mbappe55.png\n",
      "./data/cropped/mbappe/mbappe43.png\n",
      "./data/cropped/mbappe/mbappe57.png\n",
      "./data/cropped/mbappe/mbappe56.png\n",
      "./data/cropped/mbappe/mbappe42.png\n",
      "./data/cropped/mbappe/mbappe31.png\n",
      "./data/cropped/mbappe/mbappe19.png\n",
      "./data/cropped/mbappe/mbappe18.png\n",
      "./data/cropped/mbappe/mbappe30.png\n",
      "./data/cropped/mbappe/mbappe24.png\n",
      "./data/cropped/mbappe/mbappe32.png\n",
      "./data/cropped/mbappe/mbappe27.png\n",
      "./data/cropped/mbappe/mbappe33.png\n",
      "./data/cropped/mbappe/mbappe37.png\n",
      "./data/cropped/mbappe/mbappe23.png\n",
      "./data/cropped/mbappe/mbappe22.png\n",
      "./data/cropped/mbappe/mbappe36.png\n",
      "./data/cropped/mbappe/mbappe20.png\n",
      "./data/cropped/mbappe/mbappe34.png\n",
      "./data/cropped/mbappe/mbappe8.png\n",
      "./data/cropped/mbappe/mbappe9.png\n",
      "./data/cropped/mbappe/mbappe35.png\n",
      "./data/cropped/mbappe/mbappe10.png\n",
      "./data/cropped/mbappe/mbappe38.png\n",
      "./data/cropped/mbappe/mbappe4.png\n",
      "./data/cropped/mbappe/mbappe5.png\n",
      "./data/cropped/mbappe/mbappe39.png\n",
      "./data/cropped/mbappe/mbappe11.png\n",
      "./data/cropped/mbappe/mbappe13.png\n",
      "./data/cropped/mbappe/mbappe7.png\n",
      "./data/cropped/mbappe/mbappe6.png\n",
      "./data/cropped/mbappe/mbappe12.png\n",
      "./data/cropped/mbappe/mbappe16.png\n",
      "./data/cropped/mbappe/mbappe2.png\n",
      "./data/cropped/mbappe/mbappe3.png\n",
      "./data/cropped/mbappe/mbappe17.png\n",
      "./data/cropped/mbappe/mbappe15.png\n",
      "./data/cropped/mbappe/mbappe1.png\n",
      "./data/cropped/mbappe/mbappe14.png\n",
      "./data/cropped/mbappe/mbappe28.png\n",
      "./data/cropped/mbappe/mbappe49.png\n",
      "./data/cropped/mbappe/mbappe48.png\n",
      "./data/cropped/dhoni/dhoni14.png\n",
      "./data/cropped/dhoni/dhoni29.png\n",
      "./data/cropped/dhoni/dhoni15.png\n",
      "./data/cropped/dhoni/dhoni9.png\n",
      "./data/cropped/dhoni/dhoni16.png\n",
      "./data/cropped/dhoni/dhoni8.png\n",
      "./data/cropped/dhoni/.DS_Store\n",
      "./data/cropped/dhoni/dhoni11.png\n",
      "./data/cropped/dhoni/dhoni38.png\n",
      "./data/cropped/dhoni/dhoni63.png\n",
      "./data/cropped/dhoni/dhoni62.png\n",
      "./data/cropped/dhoni/dhoni60.png\n",
      "./data/cropped/dhoni/dhoni48.png\n",
      "./data/cropped/dhoni/dhoni49.png\n",
      "./data/cropped/dhoni/dhoni61.png\n",
      "./data/cropped/dhoni/dhoni59.png\n",
      "./data/cropped/dhoni/dhoni64.png\n",
      "./data/cropped/dhoni/dhoni58.png\n",
      "./data/cropped/dhoni/dhoni41.png\n",
      "./data/cropped/dhoni/dhoni54.png\n",
      "./data/cropped/dhoni/dhoni40.png\n",
      "./data/cropped/dhoni/dhoni44.png\n",
      "./data/cropped/dhoni/dhoni50.png\n",
      "./data/cropped/dhoni/dhoni51.png\n",
      "./data/cropped/dhoni/dhoni45.png\n",
      "./data/cropped/dhoni/dhoni47.png\n",
      "./data/cropped/dhoni/dhoni46.png\n",
      "./data/cropped/dhoni/dhoni52.png\n",
      "./data/cropped/dhoni/dhoni35.png\n",
      "./data/cropped/dhoni/dhoni21.png\n",
      "./data/cropped/dhoni/dhoni20.png\n",
      "./data/cropped/dhoni/dhoni34.png\n",
      "./data/cropped/dhoni/dhoni22.png\n",
      "./data/cropped/dhoni/dhoni36.png\n",
      "./data/cropped/dhoni/dhoni37.png\n",
      "./data/cropped/dhoni/dhoni1.png\n",
      "./data/cropped/dhoni/dhoni5.png\n",
      "./data/cropped/dhoni/dhoni27.png\n",
      "./data/cropped/dhoni/dhoni33.png\n",
      "./data/cropped/dhoni/dhoni32.png\n",
      "./data/cropped/dhoni/dhoni4.png\n",
      "./data/cropped/dhoni/dhoni6.png\n",
      "./data/cropped/dhoni/dhoni18.png\n",
      "./data/cropped/dhoni/dhoni30.png\n",
      "./data/cropped/dhoni/dhoni24.png\n",
      "./data/cropped/dhoni/dhoni25.png\n",
      "./data/cropped/dhoni/dhoni31.png\n",
      "./data/cropped/dhoni/dhoni7.png\n",
      "./data/cropped/ronaldo/ronaldo15.png\n",
      "./data/cropped/ronaldo/ronaldo29.png\n",
      "./data/cropped/ronaldo/ronaldo28.png\n",
      "./data/cropped/ronaldo/ronaldo14.png\n",
      "./data/cropped/ronaldo/ronaldo16.png\n",
      "./data/cropped/ronaldo/ronaldo17.png\n",
      "./data/cropped/ronaldo/ronaldo13.png\n",
      "./data/cropped/ronaldo/.DS_Store\n",
      "./data/cropped/ronaldo/ronaldo12.png\n",
      "./data/cropped/ronaldo/ronaldo38.png\n",
      "./data/cropped/ronaldo/ronaldo10.png\n",
      "./data/cropped/ronaldo/ronaldo11.png\n",
      "./data/cropped/ronaldo/ronaldo62.png\n",
      "./data/cropped/ronaldo/ronaldo63.png\n",
      "./data/cropped/ronaldo/ronaldo61.png\n",
      "./data/cropped/ronaldo/ronaldo49.png\n",
      "./data/cropped/ronaldo/ronaldo48.png\n",
      "./data/cropped/ronaldo/ronaldo60.png\n",
      "./data/cropped/ronaldo/ronaldo74.png\n",
      "./data/cropped/ronaldo/ronaldo58.png\n",
      "./data/cropped/ronaldo/ronaldo70.png\n",
      "./data/cropped/ronaldo/ronaldo64.png\n",
      "./data/cropped/ronaldo/ronaldo9.png\n",
      "./data/cropped/ronaldo/ronaldo8.png\n",
      "./data/cropped/ronaldo/ronaldo65.png\n",
      "./data/cropped/ronaldo/ronaldo71.png\n",
      "./data/cropped/ronaldo/ronaldo59.png\n",
      "./data/cropped/ronaldo/ronaldo67.png\n",
      "./data/cropped/ronaldo/ronaldo73.png\n",
      "./data/cropped/ronaldo/ronaldo72.png\n",
      "./data/cropped/ronaldo/ronaldo66.png\n",
      "./data/cropped/ronaldo/ronaldo43.png\n",
      "./data/cropped/ronaldo/ronaldo57.png\n",
      "./data/cropped/ronaldo/ronaldo6.png\n",
      "./data/cropped/ronaldo/ronaldo7.png\n",
      "./data/cropped/ronaldo/ronaldo56.png\n",
      "./data/cropped/ronaldo/ronaldo42.png\n",
      "./data/cropped/ronaldo/ronaldo54.png\n",
      "./data/cropped/ronaldo/ronaldo40.png\n",
      "./data/cropped/ronaldo/ronaldo68.png\n",
      "./data/cropped/ronaldo/ronaldo5.png\n",
      "./data/cropped/ronaldo/ronaldo4.png\n",
      "./data/cropped/ronaldo/ronaldo69.png\n",
      "./data/cropped/ronaldo/ronaldo41.png\n",
      "./data/cropped/ronaldo/ronaldo55.png\n",
      "./data/cropped/ronaldo/ronaldo51.png\n",
      "./data/cropped/ronaldo/ronaldo45.png\n",
      "./data/cropped/ronaldo/ronaldo1.png\n",
      "./data/cropped/ronaldo/ronaldo44.png\n",
      "./data/cropped/ronaldo/ronaldo50.png\n",
      "./data/cropped/ronaldo/ronaldo46.png\n",
      "./data/cropped/ronaldo/ronaldo52.png\n",
      "./data/cropped/ronaldo/ronaldo3.png\n",
      "./data/cropped/ronaldo/ronaldo2.png\n",
      "./data/cropped/ronaldo/ronaldo53.png\n",
      "./data/cropped/ronaldo/ronaldo47.png\n",
      "./data/cropped/ronaldo/ronaldo20.png\n",
      "./data/cropped/ronaldo/ronaldo34.png\n",
      "./data/cropped/ronaldo/ronaldo21.png\n",
      "./data/cropped/ronaldo/ronaldo37.png\n",
      "./data/cropped/ronaldo/ronaldo23.png\n",
      "./data/cropped/ronaldo/ronaldo22.png\n",
      "./data/cropped/ronaldo/ronaldo36.png\n",
      "./data/cropped/ronaldo/ronaldo32.png\n",
      "./data/cropped/ronaldo/ronaldo26.png\n",
      "./data/cropped/ronaldo/ronaldo27.png\n",
      "./data/cropped/ronaldo/ronaldo33.png\n",
      "./data/cropped/ronaldo/ronaldo19.png\n",
      "./data/cropped/ronaldo/ronaldo25.png\n",
      "./data/cropped/ronaldo/ronaldo30.png\n",
      "./data/cropped/ronaldo/ronaldo24.png\n",
      "./data/cropped/ronaldo/ronaldo18.png\n",
      "./data/cropped/virat/virat20.png\n",
      "./data/cropped/virat/virat34.png\n",
      "./data/cropped/virat/virat35.png\n",
      "./data/cropped/virat/virat21.png\n",
      "./data/cropped/virat/virat37.png\n",
      "./data/cropped/virat/virat23.png\n",
      "./data/cropped/virat/virat22.png\n",
      "./data/cropped/virat/virat36.png\n",
      "./data/cropped/virat/virat32.png\n",
      "./data/cropped/virat/virat26.png\n",
      "./data/cropped/virat/virat27.png\n",
      "./data/cropped/virat/virat33.png\n",
      "./data/cropped/virat/virat31.png\n",
      "./data/cropped/virat/virat30.png\n",
      "./data/cropped/virat/virat24.png\n",
      "./data/cropped/virat/virat18.png\n",
      "./data/cropped/virat/virat43.png\n",
      "./data/cropped/virat/virat42.png\n",
      "./data/cropped/virat/virat7.png\n",
      "./data/cropped/virat/virat5.png\n",
      "./data/cropped/virat/virat40.png\n",
      "./data/cropped/virat/virat41.png\n",
      "./data/cropped/virat/virat4.png\n",
      "./data/cropped/virat/virat44.png\n",
      "./data/cropped/virat/virat1.png\n",
      "./data/cropped/virat/virat3.png\n",
      "./data/cropped/virat/virat2.png\n",
      "./data/cropped/virat/virat9.png\n",
      "./data/cropped/virat/virat8.png\n",
      "./data/cropped/virat/virat15.png\n",
      "./data/cropped/virat/virat29.png\n",
      "./data/cropped/virat/virat28.png\n",
      "./data/cropped/virat/virat14.png\n",
      "./data/cropped/virat/virat16.png\n",
      "./data/cropped/virat/virat17.png\n",
      "./data/cropped/virat/virat13.png\n",
      "./data/cropped/virat/virat38.png\n",
      "./data/cropped/virat/virat10.png\n",
      "./data/cropped/virat/virat11.png\n",
      "./data/cropped/virat/virat39.png\n",
      "./data/cropped/messi/messi13.png\n",
      "./data/cropped/messi/messi10.png\n",
      "./data/cropped/messi/messi11.png\n",
      "./data/cropped/messi/messi8.png\n",
      "./data/cropped/messi/messi29.png\n",
      "./data/cropped/messi/messi15.png\n",
      "./data/cropped/messi/.DS_Store\n",
      "./data/cropped/messi/messi28.png\n",
      "./data/cropped/messi/messi9.png\n",
      "./data/cropped/messi/messi16.png\n",
      "./data/cropped/messi/messi17.png\n",
      "./data/cropped/messi/messi7.png\n",
      "./data/cropped/messi/messi32.png\n",
      "./data/cropped/messi/messi26.png\n",
      "./data/cropped/messi/messi27.png\n",
      "./data/cropped/messi/messi6.png\n",
      "./data/cropped/messi/messi33.png\n",
      "./data/cropped/messi/messi25.png\n",
      "./data/cropped/messi/messi4.png\n",
      "./data/cropped/messi/messi19.png\n",
      "./data/cropped/messi/messi18.png\n",
      "./data/cropped/messi/messi30.png\n",
      "./data/cropped/messi/messi5.png\n",
      "./data/cropped/messi/messi24.png\n",
      "./data/cropped/messi/messi1.png\n",
      "./data/cropped/messi/messi34.png\n",
      "./data/cropped/messi/messi35.png\n",
      "./data/cropped/messi/messi21.png\n",
      "./data/cropped/messi/messi37.png\n",
      "./data/cropped/messi/messi2.png\n",
      "./data/cropped/messi/messi23.png\n",
      "./data/cropped/messi/messi22.png\n",
      "./data/cropped/messi/messi3.png\n"
     ]
    }
   ],
   "source": [
    "\n",
    "X, y = [], []\n",
    "for celebrity_name, training_files in celebrity_file_names_dict.items():\n",
    "    \n",
    "    for image in training_files:\n",
    "        try:\n",
    "            img = cv2.imread(image) \n",
    "            print(image)\n",
    "            scalled_raw_img = cv2.resize(img, (32, 32))\n",
    "            img_har = w2d(img,'db1',5)\n",
    "            scalled_img_har = cv2.resize(img_har, (32, 32))\n",
    "            combined_img = np.vstack((scalled_raw_img.reshape(32*32*3,1),scalled_img_har.reshape(32*32,1)))\n",
    "            X.append(combined_img)\n",
    "            y.append(class_dict[celebrity_name]) \n",
    "        except:\n",
    "            continue\n",
    "\n",
    "\n",
    "\n",
    "     \n",
    "        \n",
    "\n",
    "\n"
   ]
  },
  {
   "cell_type": "code",
   "execution_count": 22,
   "metadata": {},
   "outputs": [
    {
     "data": {
      "text/plain": [
       "(243, 4096)"
      ]
     },
     "execution_count": 22,
     "metadata": {},
     "output_type": "execute_result"
    }
   ],
   "source": [
    "X = np.array(X).reshape(len(X),4096).astype(float)\n",
    "X.shape"
   ]
  },
  {
   "cell_type": "code",
   "execution_count": 23,
   "metadata": {},
   "outputs": [],
   "source": [
    "from sklearn.svm import SVC\n",
    "from sklearn.preprocessing import StandardScaler\n",
    "from sklearn.model_selection import train_test_split\n",
    "from sklearn.pipeline import Pipeline\n",
    "from sklearn.metrics import classification_report"
   ]
  },
  {
   "cell_type": "code",
   "execution_count": 24,
   "metadata": {},
   "outputs": [
    {
     "data": {
      "text/plain": [
       "0.7704918032786885"
      ]
     },
     "execution_count": 24,
     "metadata": {},
     "output_type": "execute_result"
    }
   ],
   "source": [
    "X_train, X_test, y_train, y_test = train_test_split(X, y, random_state=0)\n",
    "\n",
    "pipe = Pipeline([('scaler', StandardScaler()), ('svc', SVC(kernel = 'rbf', C = 10))])\n",
    "pipe.fit(X_train, y_train)\n",
    "pipe.score(X_test, y_test)"
   ]
  },
  {
   "cell_type": "code",
   "execution_count": 25,
   "metadata": {},
   "outputs": [
    {
     "name": "stdout",
     "output_type": "stream",
     "text": [
      "              precision    recall  f1-score   support\n",
      "\n",
      "           0       0.58      0.64      0.61        11\n",
      "           1       0.80      0.80      0.80        10\n",
      "           2       0.79      0.88      0.83        25\n",
      "           3       1.00      0.75      0.86         8\n",
      "           4       0.80      0.57      0.67         7\n",
      "\n",
      "    accuracy                           0.77        61\n",
      "   macro avg       0.79      0.73      0.75        61\n",
      "weighted avg       0.78      0.77      0.77        61\n",
      "\n"
     ]
    }
   ],
   "source": [
    "print(classification_report(y_test, pipe.predict(X_test)))"
   ]
  },
  {
   "cell_type": "code",
   "execution_count": 26,
   "metadata": {},
   "outputs": [],
   "source": [
    "from sklearn import svm\n",
    "from sklearn.ensemble import RandomForestClassifier\n",
    "from sklearn.linear_model import LogisticRegression\n",
    "from sklearn.pipeline import make_pipeline\n",
    "from sklearn.model_selection import GridSearchCV"
   ]
  },
  {
   "cell_type": "code",
   "execution_count": 27,
   "metadata": {},
   "outputs": [],
   "source": [
    "model_params = {\n",
    "    'svm': {\n",
    "        'model': svm.SVC(gamma='auto',probability=True),\n",
    "        'params' : {\n",
    "            'svc__C': [1,10,100,1000],\n",
    "            'svc__kernel': ['rbf','linear']\n",
    "        }  \n",
    "    },\n",
    "    'random_forest': {\n",
    "        'model': RandomForestClassifier(),\n",
    "        'params' : {\n",
    "            'randomforestclassifier__n_estimators': [1,5,10]\n",
    "        }\n",
    "    },\n",
    "    'logistic_regression' : {\n",
    "        'model': LogisticRegression(solver='liblinear',multi_class='auto'),\n",
    "        'params': {\n",
    "            'logisticregression__C': [1,5,10]\n",
    "        }\n",
    "    }\n",
    "}"
   ]
  },
  {
   "cell_type": "code",
   "execution_count": 28,
   "metadata": {},
   "outputs": [
    {
     "data": {
      "text/html": [
       "<div>\n",
       "<style scoped>\n",
       "    .dataframe tbody tr th:only-of-type {\n",
       "        vertical-align: middle;\n",
       "    }\n",
       "\n",
       "    .dataframe tbody tr th {\n",
       "        vertical-align: top;\n",
       "    }\n",
       "\n",
       "    .dataframe thead th {\n",
       "        text-align: right;\n",
       "    }\n",
       "</style>\n",
       "<table border=\"1\" class=\"dataframe\">\n",
       "  <thead>\n",
       "    <tr style=\"text-align: right;\">\n",
       "      <th></th>\n",
       "      <th>model</th>\n",
       "      <th>best_score</th>\n",
       "      <th>best_params</th>\n",
       "    </tr>\n",
       "  </thead>\n",
       "  <tbody>\n",
       "    <tr>\n",
       "      <th>0</th>\n",
       "      <td>svm</td>\n",
       "      <td>0.735886</td>\n",
       "      <td>{'svc__C': 1, 'svc__kernel': 'linear'}</td>\n",
       "    </tr>\n",
       "    <tr>\n",
       "      <th>1</th>\n",
       "      <td>random_forest</td>\n",
       "      <td>0.521321</td>\n",
       "      <td>{'randomforestclassifier__n_estimators': 10}</td>\n",
       "    </tr>\n",
       "    <tr>\n",
       "      <th>2</th>\n",
       "      <td>logistic_regression</td>\n",
       "      <td>0.780330</td>\n",
       "      <td>{'logisticregression__C': 5}</td>\n",
       "    </tr>\n",
       "  </tbody>\n",
       "</table>\n",
       "</div>"
      ],
      "text/plain": [
       "                 model  best_score  \\\n",
       "0                  svm    0.735886   \n",
       "1        random_forest    0.521321   \n",
       "2  logistic_regression    0.780330   \n",
       "\n",
       "                                    best_params  \n",
       "0        {'svc__C': 1, 'svc__kernel': 'linear'}  \n",
       "1  {'randomforestclassifier__n_estimators': 10}  \n",
       "2                  {'logisticregression__C': 5}  "
      ]
     },
     "execution_count": 28,
     "metadata": {},
     "output_type": "execute_result"
    }
   ],
   "source": [
    "scores = []\n",
    "best_estimators = {}\n",
    "import pandas as pd\n",
    "for algo, mp in model_params.items():\n",
    "    pipe = make_pipeline(StandardScaler(), mp['model'])\n",
    "    clf =  GridSearchCV(pipe, mp['params'], cv=5, return_train_score=False)\n",
    "    clf.fit(X_train, y_train)\n",
    "    scores.append({\n",
    "        'model': algo,\n",
    "        'best_score': clf.best_score_,\n",
    "        'best_params': clf.best_params_\n",
    "    })\n",
    "    best_estimators[algo] = clf.best_estimator_\n",
    "    \n",
    "df = pd.DataFrame(scores,columns=['model','best_score','best_params'])\n",
    "df"
   ]
  },
  {
   "cell_type": "code",
   "execution_count": 29,
   "metadata": {},
   "outputs": [
    {
     "data": {
      "text/plain": [
       "{'svm': Pipeline(steps=[('standardscaler', StandardScaler()),\n",
       "                 ('svc',\n",
       "                  SVC(C=1, gamma='auto', kernel='linear', probability=True))]),\n",
       " 'random_forest': Pipeline(steps=[('standardscaler', StandardScaler()),\n",
       "                 ('randomforestclassifier',\n",
       "                  RandomForestClassifier(n_estimators=10))]),\n",
       " 'logistic_regression': Pipeline(steps=[('standardscaler', StandardScaler()),\n",
       "                 ('logisticregression',\n",
       "                  LogisticRegression(C=5, solver='liblinear'))])}"
      ]
     },
     "execution_count": 29,
     "metadata": {},
     "output_type": "execute_result"
    }
   ],
   "source": [
    "best_estimators"
   ]
  },
  {
   "cell_type": "code",
   "execution_count": 30,
   "metadata": {},
   "outputs": [
    {
     "data": {
      "text/plain": [
       "0.8360655737704918"
      ]
     },
     "execution_count": 30,
     "metadata": {},
     "output_type": "execute_result"
    }
   ],
   "source": [
    "best_estimators['svm'].score(X_test,y_test)"
   ]
  },
  {
   "cell_type": "code",
   "execution_count": 31,
   "metadata": {},
   "outputs": [
    {
     "data": {
      "text/plain": [
       "0.7049180327868853"
      ]
     },
     "execution_count": 31,
     "metadata": {},
     "output_type": "execute_result"
    }
   ],
   "source": [
    "best_estimators['random_forest'].score(X_test,y_test)"
   ]
  },
  {
   "cell_type": "code",
   "execution_count": 32,
   "metadata": {},
   "outputs": [
    {
     "data": {
      "text/plain": [
       "0.819672131147541"
      ]
     },
     "execution_count": 32,
     "metadata": {},
     "output_type": "execute_result"
    }
   ],
   "source": [
    "best_estimators['logistic_regression'].score(X_test,y_test)"
   ]
  },
  {
   "cell_type": "code",
   "execution_count": 33,
   "metadata": {},
   "outputs": [],
   "source": [
    "import pickle"
   ]
  },
  {
   "cell_type": "code",
   "execution_count": 34,
   "metadata": {},
   "outputs": [],
   "source": [
    "best_clf = best_estimators['logistic_regression']"
   ]
  },
  {
   "cell_type": "code",
   "execution_count": 35,
   "metadata": {},
   "outputs": [
    {
     "data": {
      "text/plain": [
       "array([[ 7,  1,  2,  1,  0],\n",
       "       [ 0,  9,  0,  0,  1],\n",
       "       [ 1,  3, 21,  0,  0],\n",
       "       [ 0,  1,  0,  7,  0],\n",
       "       [ 0,  0,  1,  0,  6]])"
      ]
     },
     "execution_count": 35,
     "metadata": {},
     "output_type": "execute_result"
    }
   ],
   "source": [
    "from sklearn.metrics import confusion_matrix\n",
    "cm = confusion_matrix(y_test, best_clf.predict(X_test))\n",
    "cm"
   ]
  },
  {
   "cell_type": "code",
   "execution_count": 36,
   "metadata": {},
   "outputs": [
    {
     "ename": "ModuleNotFoundError",
     "evalue": "No module named 'seaborn'",
     "output_type": "error",
     "traceback": [
      "\u001b[0;31m---------------------------------------------------------------------------\u001b[0m",
      "\u001b[0;31mModuleNotFoundError\u001b[0m                       Traceback (most recent call last)",
      "Cell \u001b[0;32mIn[36], line 1\u001b[0m\n\u001b[0;32m----> 1\u001b[0m \u001b[39mimport\u001b[39;00m \u001b[39mseaborn\u001b[39;00m \u001b[39mas\u001b[39;00m \u001b[39msn\u001b[39;00m\n\u001b[1;32m      2\u001b[0m plt\u001b[39m.\u001b[39mfigure(figsize \u001b[39m=\u001b[39m (\u001b[39m10\u001b[39m,\u001b[39m7\u001b[39m))\n\u001b[1;32m      3\u001b[0m sn\u001b[39m.\u001b[39mheatmap(cm, annot\u001b[39m=\u001b[39m\u001b[39mTrue\u001b[39;00m)\n",
      "\u001b[0;31mModuleNotFoundError\u001b[0m: No module named 'seaborn'"
     ]
    }
   ],
   "source": [
    "import seaborn as sn\n",
    "plt.figure(figsize = (10,7))\n",
    "sn.heatmap(cm, annot=True)\n",
    "plt.xlabel('Predicted')\n",
    "plt.ylabel('Truth')"
   ]
  },
  {
   "cell_type": "code",
   "execution_count": 37,
   "metadata": {},
   "outputs": [
    {
     "data": {
      "text/plain": [
       "['saved_model.pkl']"
      ]
     },
     "execution_count": 37,
     "metadata": {},
     "output_type": "execute_result"
    }
   ],
   "source": [
    "import joblib\n",
    "joblib.dump(best_clf, 'saved_model.pkl') \n"
   ]
  },
  {
   "cell_type": "code",
   "execution_count": null,
   "metadata": {},
   "outputs": [],
   "source": []
  }
 ],
 "metadata": {
  "kernelspec": {
   "display_name": "Python 3 (ipykernel)",
   "language": "python",
   "name": "python3"
  },
  "language_info": {
   "codemirror_mode": {
    "name": "ipython",
    "version": 3
   },
   "file_extension": ".py",
   "mimetype": "text/x-python",
   "name": "python",
   "nbconvert_exporter": "python",
   "pygments_lexer": "ipython3",
   "version": "3.8.16"
  },
  "orig_nbformat": 4
 },
 "nbformat": 4,
 "nbformat_minor": 2
}
